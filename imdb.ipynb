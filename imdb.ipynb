{
 "cells": [
  {
   "cell_type": "markdown",
   "metadata": {},
   "source": [
    "# Binary classification"
   ]
  },
  {
   "cell_type": "code",
   "execution_count": 1,
   "metadata": {},
   "outputs": [],
   "source": [
    "from tensorflow.keras.datasets import imdb\n",
    "import numpy as np\n",
    "from tensorflow.keras import Sequential\n",
    "from tensorflow.keras import layers\n",
    "from sklearn.metrics import classification_report\n",
    "import matplotlib.pyplot as plt"
   ]
  },
  {
   "cell_type": "markdown",
   "metadata": {},
   "source": [
    "## 1- Data prepartion"
   ]
  },
  {
   "cell_type": "code",
   "execution_count": 2,
   "metadata": {},
   "outputs": [],
   "source": [
    "(train_data, train_labels), (test_data, test_labels) = imdb.load_data(num_words=10000)"
   ]
  },
  {
   "cell_type": "code",
   "execution_count": 3,
   "metadata": {},
   "outputs": [],
   "source": [
    "word_index = imdb.get_word_index()"
   ]
  },
  {
   "cell_type": "code",
   "execution_count": 4,
   "metadata": {},
   "outputs": [],
   "source": [
    "def vectorize_sequences(sequences, dimension=10000):\n",
    "    results = np.zeros((len(sequences), dimension))\n",
    "    for i, sequence in enumerate(sequences):\n",
    "        for j in sequence:\n",
    "            results[i, j] = 1.0\n",
    "    return results\n",
    "\n",
    "\n",
    "x_train = vectorize_sequences(train_data)\n",
    "x_test = vectorize_sequences(test_data)"
   ]
  },
  {
   "cell_type": "code",
   "execution_count": 5,
   "metadata": {},
   "outputs": [],
   "source": [
    "y_train = np.asarray(train_labels).astype(\"float32\")\n",
    "y_test = np.asarray(test_labels).astype(\"float32\")"
   ]
  },
  {
   "cell_type": "markdown",
   "metadata": {},
   "source": [
    "## 2- Model Design"
   ]
  },
  {
   "cell_type": "code",
   "execution_count": 6,
   "metadata": {},
   "outputs": [
    {
     "name": "stdout",
     "output_type": "stream",
     "text": [
      "Model: \"sequential\"\n",
      "_________________________________________________________________\n",
      " Layer (type)                Output Shape              Param #   \n",
      "=================================================================\n",
      " dense (Dense)               (None, 16)                160016    \n",
      "                                                                 \n",
      " dense_1 (Dense)             (None, 16)                272       \n",
      "                                                                 \n",
      " dense_2 (Dense)             (None, 1)                 17        \n",
      "                                                                 \n",
      "=================================================================\n",
      "Total params: 160,305\n",
      "Trainable params: 160,305\n",
      "Non-trainable params: 0\n",
      "_________________________________________________________________\n"
     ]
    }
   ],
   "source": [
    "input_shape = x_train[1].shape\n",
    "model = Sequential(\n",
    "    [\n",
    "        layers.Dense(units=16, activation=\"relu\", input_shape=(input_shape)),\n",
    "        layers.Dense(units=16, activation=\"relu\"),\n",
    "        layers.Dense(units=1, activation=\"sigmoid\"),\n",
    "    ]\n",
    ")\n",
    "\n",
    "model.summary()"
   ]
  },
  {
   "cell_type": "markdown",
   "metadata": {},
   "source": [
    "## 3- Training"
   ]
  },
  {
   "cell_type": "code",
   "execution_count": 7,
   "metadata": {},
   "outputs": [],
   "source": [
    "model.compile(optimizer=\"adam\", loss=\"binary_crossentropy\", metrics=[\"accuracy\"])"
   ]
  },
  {
   "cell_type": "code",
   "execution_count": 8,
   "metadata": {},
   "outputs": [
    {
     "name": "stdout",
     "output_type": "stream",
     "text": [
      "Epoch 1/20\n",
      "49/49 [==============================] - 1s 14ms/step - loss: 0.5199 - accuracy: 0.7915 - val_loss: 0.3283 - val_accuracy: 0.8978\n",
      "Epoch 2/20\n",
      "49/49 [==============================] - 0s 8ms/step - loss: 0.2729 - accuracy: 0.9064 - val_loss: 0.2074 - val_accuracy: 0.9333\n",
      "Epoch 3/20\n",
      "49/49 [==============================] - 0s 9ms/step - loss: 0.1989 - accuracy: 0.9288 - val_loss: 0.1595 - val_accuracy: 0.9498\n",
      "Epoch 4/20\n",
      "49/49 [==============================] - 0s 8ms/step - loss: 0.1593 - accuracy: 0.9463 - val_loss: 0.1307 - val_accuracy: 0.9605\n",
      "Epoch 5/20\n",
      "49/49 [==============================] - 0s 8ms/step - loss: 0.1337 - accuracy: 0.9559 - val_loss: 0.1092 - val_accuracy: 0.9696\n",
      "Epoch 6/20\n",
      "49/49 [==============================] - 0s 8ms/step - loss: 0.1133 - accuracy: 0.9644 - val_loss: 0.0926 - val_accuracy: 0.9748\n",
      "Epoch 7/20\n",
      "49/49 [==============================] - 0s 9ms/step - loss: 0.0961 - accuracy: 0.9711 - val_loss: 0.0775 - val_accuracy: 0.9812\n",
      "Epoch 8/20\n",
      "49/49 [==============================] - 0s 9ms/step - loss: 0.0822 - accuracy: 0.9766 - val_loss: 0.0654 - val_accuracy: 0.9865\n",
      "Epoch 9/20\n",
      "49/49 [==============================] - 0s 8ms/step - loss: 0.0695 - accuracy: 0.9810 - val_loss: 0.0542 - val_accuracy: 0.9897\n",
      "Epoch 10/20\n",
      "49/49 [==============================] - 0s 9ms/step - loss: 0.0596 - accuracy: 0.9855 - val_loss: 0.0480 - val_accuracy: 0.9913\n",
      "Epoch 11/20\n",
      "49/49 [==============================] - 0s 8ms/step - loss: 0.0520 - accuracy: 0.9875 - val_loss: 0.0426 - val_accuracy: 0.9922\n",
      "Epoch 12/20\n",
      "49/49 [==============================] - 0s 8ms/step - loss: 0.0431 - accuracy: 0.9916 - val_loss: 0.0331 - val_accuracy: 0.9950\n",
      "Epoch 13/20\n",
      "49/49 [==============================] - 0s 8ms/step - loss: 0.0349 - accuracy: 0.9939 - val_loss: 0.0275 - val_accuracy: 0.9967\n",
      "Epoch 14/20\n",
      "49/49 [==============================] - 0s 8ms/step - loss: 0.0289 - accuracy: 0.9959 - val_loss: 0.0228 - val_accuracy: 0.9977\n",
      "Epoch 15/20\n",
      "49/49 [==============================] - 0s 9ms/step - loss: 0.0235 - accuracy: 0.9969 - val_loss: 0.0195 - val_accuracy: 0.9979\n",
      "Epoch 16/20\n",
      "49/49 [==============================] - 0s 8ms/step - loss: 0.0196 - accuracy: 0.9982 - val_loss: 0.0161 - val_accuracy: 0.9988\n",
      "Epoch 17/20\n",
      "49/49 [==============================] - 0s 8ms/step - loss: 0.0162 - accuracy: 0.9986 - val_loss: 0.0136 - val_accuracy: 0.9990\n",
      "Epoch 18/20\n",
      "49/49 [==============================] - 0s 8ms/step - loss: 0.0133 - accuracy: 0.9992 - val_loss: 0.0111 - val_accuracy: 0.9993\n",
      "Epoch 19/20\n",
      "49/49 [==============================] - 0s 8ms/step - loss: 0.0106 - accuracy: 0.9995 - val_loss: 0.0089 - val_accuracy: 0.9991\n",
      "Epoch 20/20\n",
      "49/49 [==============================] - 0s 8ms/step - loss: 0.0083 - accuracy: 0.9996 - val_loss: 0.0069 - val_accuracy: 0.9995\n"
     ]
    }
   ],
   "source": [
    "x_val = x_train[:10000]\n",
    "partial_x_train = x_train[10000:]\n",
    "y_val = y_train[:10000]\n",
    "partial_y_train = y_train[10000:]\n",
    "\n",
    "history = model.fit(\n",
    "    x=x_train, y=y_train, batch_size=512, epochs=20, validation_data=(x_val, y_val)\n",
    ")"
   ]
  },
  {
   "cell_type": "markdown",
   "metadata": {},
   "source": [
    "## 4- Evaluation"
   ]
  },
  {
   "cell_type": "code",
   "execution_count": 9,
   "metadata": {},
   "outputs": [
    {
     "data": {
      "text/plain": [
       "dict_keys(['loss', 'accuracy', 'val_loss', 'val_accuracy'])"
      ]
     },
     "execution_count": 9,
     "metadata": {},
     "output_type": "execute_result"
    }
   ],
   "source": [
    "history.history.keys()"
   ]
  },
  {
   "cell_type": "code",
   "execution_count": 10,
   "metadata": {},
   "outputs": [
    {
     "data": {
      "image/png": "[encoded data removed]",
      "text/plain": [
       "<Figure size 640x480 with 1 Axes>"
      ]
     },
     "metadata": {},
     "output_type": "display_data"
    }
   ],
   "source": [
    "losses = history.history[\"loss\"]\n",
    "val_losses = history.history[\"val_loss\"]\n",
    "\n",
    "plt.plot(losses, label=\"Train_loss\")\n",
    "plt.plot(val_losses, label=\"Validation_loss\")\n",
    "plt.legend()\n",
    "plt.show()"
   ]
  },
  {
   "cell_type": "code",
   "execution_count": 11,
   "metadata": {},
   "outputs": [
    {
     "data": {
      "image/png": "[encoded data removed]",
      "text/plain": [
       "<Figure size 640x480 with 1 Axes>"
      ]
     },
     "metadata": {},
     "output_type": "display_data"
    }
   ],
   "source": [
    "acc = history.history[\"accuracy\"]\n",
    "val_acc = history.history[\"val_accuracy\"]\n",
    "\n",
    "plt.plot(acc, label=\"Train_accuracy\")\n",
    "plt.plot(val_acc, label=\"Validation_accuracy\")\n",
    "plt.legend()\n",
    "plt.show()"
   ]
  },
  {
   "cell_type": "code",
   "execution_count": 13,
   "metadata": {},
   "outputs": [
    {
     "name": "stdout",
     "output_type": "stream",
     "text": [
      "782/782 [==============================] - 1s 1ms/step - loss: 0.9026 - accuracy: 0.8478\n"
     ]
    },
    {
     "data": {
      "text/plain": [
       "[0.9025700092315674, 0.8478400111198425]"
      ]
     },
     "execution_count": 13,
     "metadata": {},
     "output_type": "execute_result"
    }
   ],
   "source": [
    "model.evaluate(x_test, y_test)"
   ]
  },
  {
   "cell_type": "code",
   "execution_count": 14,
   "metadata": {},
   "outputs": [
    {
     "name": "stdout",
     "output_type": "stream",
     "text": [
      "782/782 [==============================] - 1s 913us/step\n"
     ]
    }
   ],
   "source": [
    "preds = model.predict(x_test)"
   ]
  },
  {
   "cell_type": "code",
   "execution_count": 15,
   "metadata": {},
   "outputs": [],
   "source": [
    "preds[preds < 0.5] = 0\n",
    "preds[preds >= 0.5] = 1"
   ]
  },
  {
   "cell_type": "code",
   "execution_count": 16,
   "metadata": {},
   "outputs": [
    {
     "name": "stdout",
     "output_type": "stream",
     "text": [
      "              precision    recall  f1-score   support\n",
      "\n",
      "    Negative       0.84      0.86      0.85     12500\n",
      "    Positive       0.86      0.83      0.85     12500\n",
      "\n",
      "    accuracy                           0.85     25000\n",
      "   macro avg       0.85      0.85      0.85     25000\n",
      "weighted avg       0.85      0.85      0.85     25000\n",
      "\n"
     ]
    }
   ],
   "source": [
    "print(\n",
    "    classification_report(\n",
    "        y_true=y_test, y_pred=preds, target_names=[\"Negative\", \"Positive\"]\n",
    "    )\n",
    ")"
   ]
  }
 ],
 "metadata": {
  "kernelspec": {
   "display_name": "tf",
   "language": "python",
   "name": "python3"
  },
  "language_info": {
   "codemirror_mode": {
    "name": "ipython",
    "version": 3
   },
   "file_extension": ".py",
   "mimetype": "text/x-python",
   "name": "python",
   "nbconvert_exporter": "python",
   "pygments_lexer": "ipython3",
   "version": "3.10.13"
  }
 },
 "nbformat": 4,
 "nbformat_minor": 2
}
